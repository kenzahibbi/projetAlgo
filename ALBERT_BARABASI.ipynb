{
 "cells": [
  {
   "cell_type": "code",
   "execution_count": 34,
   "metadata": {},
   "outputs": [
    {
     "name": "stdin",
     "output_type": "stream",
     "text": [
      "Veuillez entrer la valeur du parametre m (m <= 3) 2\n",
      "Veuillez entrer le nombre de noeuds final 5\n"
     ]
    },
    {
     "name": "stdout",
     "output_type": "stream",
     "text": [
      "\n",
      "Création du graphe inital...\n",
      "Graphe créé, ajout de nouveaux sommets\n",
      "\n",
      "ajouter 1 sommet\n",
      "Sommet ajouté: 4\n",
      "\n",
      "Ajout en cours...\n",
      "Arrete ajoutée: 4 2\n",
      "\n",
      "Ajout en cours...\n",
      "Arrete ajoutée: 4 0\n",
      "\n",
      "ajouter 2 sommet\n",
      "Sommet ajouté: 5\n",
      "\n",
      "Ajout en cours...\n",
      "Arrete ajoutée: 5 2\n",
      "\n",
      "Ajout en cours...\n",
      "Arrete ajoutée: 5 0\n"
     ]
    },
    {
     "data": {
      "image/png": "[encoded data removed]",
      "text/plain": [
       "<Figure size 432x288 with 1 Axes>"
      ]
     },
     "metadata": {},
     "output_type": "display_data"
    }
   ],
   "source": [
    "import networkx as nx\n",
    "import random as rd\n",
    "import numpy as np\n",
    "\n",
    "#cette fonction calcule la liste de probabilités avec lesquelles chaque sommet existant sera connecté au nouveau sommet \n",
    "#et retourne un sommet choisi aleatoirement pour le connecter \n",
    "def random_proba_som():\n",
    "    som_probas = []\n",
    "    for som in G.nodes():\n",
    "        som_degre = G.degree(som)\n",
    "        #print(\"le degre du sommet\",som,\":\",som_degre)\n",
    "        som_proba = som_degre / (2* len(G.edges()))\n",
    "        #print(\"probabilité de connexion du noeud: {}\".format(som_proba))\n",
    "        som_probas.append(som_proba)\n",
    "        #ajout de la probablilité du noeud som à la liste des probabilités\n",
    "    random_sommet =np.random.choice(G.nodes, p = som_probas)\n",
    "    #print(\"le sommet choisi aleatoirement: {}\".format(random_sommet))\n",
    "    return random_sommet   \n",
    "\n",
    "#cette fonction ajoute les nouvelles arretes\n",
    "def ajout_arrete():\n",
    "    if len(G.edges()) == 0:\n",
    "        random_sommet = 0\n",
    "    else:\n",
    "        random_sommet = random_proba_som()\n",
    "    nv_arrete = (random_sommet, nv_sommet)\n",
    "    if nv_arrete in G.edges():\n",
    "            print(\"\\nAjout en cours...\")\n",
    "            print(\"Arrete existante deja: {} {}\".format(nv_sommet + 1, random_sommet))\n",
    "            ajout_arrete()\n",
    "    else:\n",
    "            print(\"\\nAjout en cours...\")\n",
    "            G.add_edge(nv_sommet, random_sommet)\n",
    "            print(\"Arrete ajoutée: {} {}\".format(nv_sommet + 1, random_sommet))          \n",
    "\n",
    "            \n",
    "\n",
    "nb_init = 3\n",
    "# on fixe le nombre de noeuds du grpahe initial, ici notre graphe initial est une clique de 3 noeuds\n",
    "count = 0\n",
    "nv_sommet=  nb_init\n",
    "\n",
    "m= int(input(\"Veuillez entrer la valeur du parametre m (m <= 3)\")) \n",
    "nb_final=int(input(\"Veuillez entrer le nombre de noeuds final\"))\n",
    "\n",
    "print(\"\\nCréation du graphe inital...\")\n",
    "\n",
    "G=nx.complete_graph(nb_init)\n",
    "#la fonction complete_graph retourne un graphe avec nb_init noeuds \n",
    "print(\"Graphe créé, ajout de nouveaux sommets\")  \n",
    "\n",
    "for f in range(nb_final - nb_init):\n",
    "    print(\"\\najouter\" ,count+1 ,\"sommet\")\n",
    "    G.add_node(nb_init + count)\n",
    "    print(\"Sommet ajouté: {}\".format(nb_init + count + 1))\n",
    "    count += 1\n",
    "    for e in range(0, m):\n",
    "        ajout_arrete()\n",
    "    nv_sommet += 1\n",
    "\n",
    "\n",
    "nx.draw(G, with_labels=True) \n",
    "plt.show() \n",
    "nx.write_edgelist(G, \"text.txt\")    \n",
    "        "
   ]
  },
  {
   "cell_type": "raw",
   "metadata": {},
   "source": [
    "\n",
    "\n"
   ]
  },
  {
   "cell_type": "code",
   "execution_count": null,
   "metadata": {},
   "outputs": [],
   "source": []
  }
 ],
 "metadata": {
  "kernelspec": {
   "display_name": "Python 3",
   "language": "python",
   "name": "python3"
  },
  "language_info": {
   "codemirror_mode": {
    "name": "ipython",
    "version": 3
   },
   "file_extension": ".py",
   "mimetype": "text/x-python",
   "name": "python",
   "nbconvert_exporter": "python",
   "pygments_lexer": "ipython3",
   "version": "3.8.3"
  }
 },
 "nbformat": 4,
 "nbformat_minor": 4
}
